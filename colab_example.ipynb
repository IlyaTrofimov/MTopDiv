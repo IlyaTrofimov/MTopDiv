{
  "nbformat": 4,
  "nbformat_minor": 0,
  "metadata": {
    "colab": {
      "name": "colab_example.ipynb",
      "provenance": [],
      "collapsed_sections": [],
      "authorship_tag": "ABX9TyM34U6yV2lru5F8tSN0NOnu"
    },
    "kernelspec": {
      "name": "python3",
      "display_name": "Python 3"
    },
    "language_info": {
      "name": "python"
    },
    "accelerator": "GPU"
  },
  "cells": [
    {
      "cell_type": "code",
      "metadata": {
        "colab": {
          "base_uri": "https://localhost:8080/"
        },
        "id": "7-f0DCvnD4AM",
        "outputId": "227e6cbc-2c37-443b-bfc9-0977c4808237"
      },
      "source": [
        "!git clone https://github.com/simonzhang00/ripser-plusplus.git\n",
        "!cd ripser-plusplus; python setup.py install"
      ],
      "execution_count": 1,
      "outputs": [
        {
          "output_type": "stream",
          "name": "stdout",
          "text": [
            "fatal: destination path 'ripser-plusplus' already exists and is not an empty directory.\n",
            "running install\n",
            "running bdist_egg\n",
            "running egg_info\n",
            "writing ripserplusplus.egg-info/PKG-INFO\n",
            "writing dependency_links to ripserplusplus.egg-info/dependency_links.txt\n",
            "writing requirements to ripserplusplus.egg-info/requires.txt\n",
            "writing top-level names to ripserplusplus.egg-info/top_level.txt\n",
            "reading manifest template 'MANIFEST.in'\n",
            "warning: no files found matching 'ripserplusplus/ripser.cpp'\n",
            "adding license file 'LICENSE'\n",
            "writing manifest file 'ripserplusplus.egg-info/SOURCES.txt'\n",
            "installing library code to build/bdist.linux-x86_64/egg\n",
            "running install_lib\n",
            "running build_py\n",
            "running build_ext\n",
            "cmake /content/ripser-plusplus -DCMAKE_LIBRARY_OUTPUT_DIRECTORY=/content/ripser-plusplus/build/lib.linux-x86_64-3.7/ripserplusplus -DCMAKE_BUILD_TYPE=Release\n",
            "-- Found CUDA: /usr/local/cuda (found suitable version \"11.1\", minimum required is \"7\") \n",
            "-- Found CUDA: /usr/local/cuda (found version \"11.1\") \n",
            "-- Autodetected CUDA architecture(s):  3.7\n",
            "-- Found OpenMP_C: -fopenmp  \n",
            "-- Found OpenMP_CXX: -fopenmp  \n",
            "-- Found OpenMP: TRUE   \n",
            "-- Configuring done\n",
            "-- Generating done\n",
            "-- Build files have been written to: /content/ripser-plusplus/build/temp.linux-x86_64-3.7\n",
            "cmake --build . --config Release\n",
            "[ 25%] \u001b[32m\u001b[1mLinking CXX shared library ../lib.linux-x86_64-3.7/ripserplusplus/libphmap.so\u001b[0m\n",
            "[ 50%] Built target phmap\n",
            "[ 75%] \u001b[34m\u001b[1mBuilding NVCC (Device) object CMakeFiles/pyripser++.dir/ripserplusplus/pyripser++_generated_ripser++.cu.o\u001b[0m\n",
            "nvcc warning : The 'compute_35', 'compute_37', 'compute_50', 'sm_35', 'sm_37' and 'sm_50' architectures are deprecated, and may be removed in a future release (Use -Wno-deprecated-gpu-targets to suppress warning).\n",
            "nvcc warning : The 'compute_35', 'compute_37', 'compute_50', 'sm_35', 'sm_37' and 'sm_50' architectures are deprecated, and may be removed in a future release (Use -Wno-deprecated-gpu-targets to suppress warning).\n",
            "[100%] \u001b[32m\u001b[1mLinking CXX shared library ../lib.linux-x86_64-3.7/ripserplusplus/libpyripser++.so\u001b[0m\n",
            "[100%] Built target pyripser++\n",
            "creating build/bdist.linux-x86_64/egg\n",
            "creating build/bdist.linux-x86_64/egg/ripserplusplus\n",
            "copying build/lib.linux-x86_64-3.7/ripserplusplus/libphmap.so -> build/bdist.linux-x86_64/egg/ripserplusplus\n",
            "copying build/lib.linux-x86_64-3.7/ripserplusplus/Ripser_plusplus_Converter.py -> build/bdist.linux-x86_64/egg/ripserplusplus\n",
            "copying build/lib.linux-x86_64-3.7/ripserplusplus/libpyripser++.so -> build/bdist.linux-x86_64/egg/ripserplusplus\n",
            "creating build/bdist.linux-x86_64/egg/ripserplusplus/ripserplusplus.cpython-37m-x86_64-linux-gnu.so\n",
            "copying build/lib.linux-x86_64-3.7/ripserplusplus/__init__.py -> build/bdist.linux-x86_64/egg/ripserplusplus\n",
            "byte-compiling build/bdist.linux-x86_64/egg/ripserplusplus/Ripser_plusplus_Converter.py to Ripser_plusplus_Converter.cpython-37.pyc\n",
            "byte-compiling build/bdist.linux-x86_64/egg/ripserplusplus/__init__.py to __init__.cpython-37.pyc\n",
            "creating stub loader for ripserplusplus/ripserplusplus.cpython-37m-x86_64-linux-gnu.so\n",
            "byte-compiling build/bdist.linux-x86_64/egg/ripserplusplus/ripserplusplus.py to ripserplusplus.cpython-37.pyc\n",
            "creating build/bdist.linux-x86_64/egg/EGG-INFO\n",
            "copying ripserplusplus.egg-info/PKG-INFO -> build/bdist.linux-x86_64/egg/EGG-INFO\n",
            "copying ripserplusplus.egg-info/SOURCES.txt -> build/bdist.linux-x86_64/egg/EGG-INFO\n",
            "copying ripserplusplus.egg-info/dependency_links.txt -> build/bdist.linux-x86_64/egg/EGG-INFO\n",
            "copying ripserplusplus.egg-info/not-zip-safe -> build/bdist.linux-x86_64/egg/EGG-INFO\n",
            "copying ripserplusplus.egg-info/requires.txt -> build/bdist.linux-x86_64/egg/EGG-INFO\n",
            "copying ripserplusplus.egg-info/top_level.txt -> build/bdist.linux-x86_64/egg/EGG-INFO\n",
            "writing build/bdist.linux-x86_64/egg/EGG-INFO/native_libs.txt\n",
            "creating 'dist/ripserplusplus-1.1.3-py3.7-linux-x86_64.egg' and adding 'build/bdist.linux-x86_64/egg' to it\n",
            "removing 'build/bdist.linux-x86_64/egg' (and everything under it)\n",
            "Processing ripserplusplus-1.1.3-py3.7-linux-x86_64.egg\n",
            "removing '/usr/local/lib/python3.7/dist-packages/ripserplusplus-1.1.3-py3.7-linux-x86_64.egg' (and everything under it)\n",
            "creating /usr/local/lib/python3.7/dist-packages/ripserplusplus-1.1.3-py3.7-linux-x86_64.egg\n",
            "Extracting ripserplusplus-1.1.3-py3.7-linux-x86_64.egg to /usr/local/lib/python3.7/dist-packages\n",
            "ripserplusplus 1.1.3 is already the active version in easy-install.pth\n",
            "\n",
            "Installed /usr/local/lib/python3.7/dist-packages/ripserplusplus-1.1.3-py3.7-linux-x86_64.egg\n",
            "Processing dependencies for ripserplusplus==1.1.3\n",
            "Searching for scipy==1.4.1\n",
            "Best match: scipy 1.4.1\n",
            "Adding scipy 1.4.1 to easy-install.pth file\n",
            "\n",
            "Using /usr/local/lib/python3.7/dist-packages\n",
            "Searching for numpy==1.19.5\n",
            "Best match: numpy 1.19.5\n",
            "Adding numpy 1.19.5 to easy-install.pth file\n",
            "Installing f2py script to /usr/local/bin\n",
            "Installing f2py3 script to /usr/local/bin\n",
            "Installing f2py3.7 script to /usr/local/bin\n",
            "\n",
            "Using /usr/local/lib/python3.7/dist-packages\n",
            "Searching for cmake==3.12.0\n",
            "Best match: cmake 3.12.0\n",
            "Adding cmake 3.12.0 to easy-install.pth file\n",
            "Installing cmake script to /usr/local/bin\n",
            "Installing cpack script to /usr/local/bin\n",
            "Installing ctest script to /usr/local/bin\n",
            "\n",
            "Using /usr/local/lib/python3.7/dist-packages\n",
            "Finished processing dependencies for ripserplusplus==1.1.3\n"
          ]
        }
      ]
    },
    {
      "cell_type": "code",
      "metadata": {
        "colab": {
          "base_uri": "https://localhost:8080/"
        },
        "id": "G7w2Cel6EWUa",
        "outputId": "425635e6-92ea-44c8-bc6f-2629661c7af7"
      },
      "source": [
        "!git clone https://github.com/IlyaTrofimov/MTopDiv.git\n",
        "!cd MTopDiv; python setup.py install"
      ],
      "execution_count": 2,
      "outputs": [
        {
          "output_type": "stream",
          "name": "stdout",
          "text": [
            "fatal: destination path 'MTopDiv' already exists and is not an empty directory.\n",
            "running install\n",
            "running bdist_egg\n",
            "running egg_info\n",
            "writing mtopdiv.egg-info/PKG-INFO\n",
            "writing dependency_links to mtopdiv.egg-info/dependency_links.txt\n",
            "writing requirements to mtopdiv.egg-info/requires.txt\n",
            "writing top-level names to mtopdiv.egg-info/top_level.txt\n",
            "adding license file 'LICENSE'\n",
            "writing manifest file 'mtopdiv.egg-info/SOURCES.txt'\n",
            "installing library code to build/bdist.linux-x86_64/egg\n",
            "running install_lib\n",
            "running build_py\n",
            "creating build/bdist.linux-x86_64/egg\n",
            "creating build/bdist.linux-x86_64/egg/mtd\n",
            "copying build/lib/mtd/barcodes.py -> build/bdist.linux-x86_64/egg/mtd\n",
            "copying build/lib/mtd/__init__.py -> build/bdist.linux-x86_64/egg/mtd\n",
            "byte-compiling build/bdist.linux-x86_64/egg/mtd/barcodes.py to barcodes.cpython-37.pyc\n",
            "byte-compiling build/bdist.linux-x86_64/egg/mtd/__init__.py to __init__.cpython-37.pyc\n",
            "creating build/bdist.linux-x86_64/egg/EGG-INFO\n",
            "copying mtopdiv.egg-info/PKG-INFO -> build/bdist.linux-x86_64/egg/EGG-INFO\n",
            "copying mtopdiv.egg-info/SOURCES.txt -> build/bdist.linux-x86_64/egg/EGG-INFO\n",
            "copying mtopdiv.egg-info/dependency_links.txt -> build/bdist.linux-x86_64/egg/EGG-INFO\n",
            "copying mtopdiv.egg-info/requires.txt -> build/bdist.linux-x86_64/egg/EGG-INFO\n",
            "copying mtopdiv.egg-info/top_level.txt -> build/bdist.linux-x86_64/egg/EGG-INFO\n",
            "zip_safe flag not set; analyzing archive contents...\n",
            "creating 'dist/mtopdiv-1.0-py3.7.egg' and adding 'build/bdist.linux-x86_64/egg' to it\n",
            "removing 'build/bdist.linux-x86_64/egg' (and everything under it)\n",
            "Processing mtopdiv-1.0-py3.7.egg\n",
            "Removing /usr/local/lib/python3.7/dist-packages/mtopdiv-1.0-py3.7.egg\n",
            "Copying mtopdiv-1.0-py3.7.egg to /usr/local/lib/python3.7/dist-packages\n",
            "mtopdiv 1.0 is already the active version in easy-install.pth\n",
            "\n",
            "Installed /usr/local/lib/python3.7/dist-packages/mtopdiv-1.0-py3.7.egg\n",
            "Processing dependencies for mtopdiv==1.0\n",
            "Searching for scipy==1.4.1\n",
            "Best match: scipy 1.4.1\n",
            "Adding scipy 1.4.1 to easy-install.pth file\n",
            "\n",
            "Using /usr/local/lib/python3.7/dist-packages\n",
            "Searching for numpy==1.19.5\n",
            "Best match: numpy 1.19.5\n",
            "Adding numpy 1.19.5 to easy-install.pth file\n",
            "Installing f2py script to /usr/local/bin\n",
            "Installing f2py3 script to /usr/local/bin\n",
            "Installing f2py3.7 script to /usr/local/bin\n",
            "\n",
            "Using /usr/local/lib/python3.7/dist-packages\n",
            "Finished processing dependencies for mtopdiv==1.0\n"
          ]
        }
      ]
    },
    {
      "cell_type": "code",
      "metadata": {
        "colab": {
          "base_uri": "https://localhost:8080/",
          "height": 418
        },
        "id": "MjWe3GACENA9",
        "outputId": "adcc6c14-3e05-43ee-afe4-81d1b9819168"
      },
      "source": [
        "import numpy as np\n",
        "import mtd\n",
        "\n",
        "np.random.seed(7)\n",
        "P = np.random.rand(1000, 2)\n",
        "Q = np.random.rand(1000, 2)\n",
        "\n",
        "barc = mtd.calc_cross_barcodes(P, Q, batch_size1 = 100, batch_size2 = 1000)"
      ],
      "execution_count": 3,
      "outputs": [
        {
          "output_type": "stream",
          "name": "stdout",
          "text": [
            "100\n",
            "max0,976Barcode 0 = 0.032966252\n",
            "maxBarcode 0 = 0.04808129\n",
            "middleBarcode 0 = 0.012678594\n",
            "7\n",
            "max0,976Barcode 1 = 0.015120674\n",
            "maxBarcode 1 = 0.015120674\n",
            "middleBarcode 1 = 0.0034808703\n"
          ]
        },
        {
          "output_type": "display_data",
          "data": {
            "image/png": "[encoded data removed]",
            "text/plain": [
              "<Figure size 432x288 with 1 Axes>"
            ]
          },
          "metadata": {
            "needs_background": "light"
          }
        }
      ]
    },
    {
      "cell_type": "code",
      "metadata": {
        "colab": {
          "base_uri": "https://localhost:8080/"
        },
        "id": "YzPvK4z2FXlM",
        "outputId": "b3d18db5-a66b-4fd4-fff3-41d7e7478d24"
      },
      "source": [
        "mtd.mtopdiv(P, Q, batch_size1 = 100, batch_size2 = 1000)"
      ],
      "execution_count": 4,
      "outputs": [
        {
          "output_type": "execute_result",
          "data": {
            "text/plain": [
              "0.035247244"
            ]
          },
          "metadata": {},
          "execution_count": 4
        }
      ]
    }
  ]
}