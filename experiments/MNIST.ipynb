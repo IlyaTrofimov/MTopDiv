{
 "cells": [
  {
   "cell_type": "code",
   "execution_count": null,
   "metadata": {},
   "outputs": [],
   "source": [
    "import os\n",
    "import sys\n",
    "import torch\n",
    "from PIL import Image\n",
    "import numpy as np\n",
    "import matplotlib.pyplot as plt\n",
    "from scipy import stats\n",
    "import pickle\n",
    "import pathlib\n",
    "from tqdm.notebook import tqdm\n",
    "from sklearn.datasets import fetch_openml\n",
    "%matplotlib inline"
   ]
  },
  {
   "cell_type": "code",
   "execution_count": null,
   "metadata": {},
   "outputs": [],
   "source": [
    "# Load data from https://www.openml.org/d/554\n",
    "X, y = fetch_openml('mnist_784', version=1, return_X_y=True, as_frame=False)"
   ]
  },
  {
   "cell_type": "code",
   "execution_count": null,
   "metadata": {},
   "outputs": [],
   "source": [
    "img = Image.fromarray(255 - np.uint8(X[47].reshape((28, 28))), 'L')"
   ]
  },
  {
   "cell_type": "code",
   "execution_count": null,
   "metadata": {},
   "outputs": [],
   "source": [
    "img"
   ]
  },
  {
   "cell_type": "code",
   "execution_count": null,
   "metadata": {
    "scrolled": true
   },
   "outputs": [],
   "source": [
    "images = []\n",
    "\n",
    "for idx in range(len(y)):\n",
    "    if y[idx] == '5':\n",
    "        img = Image.fromarray(np.uint8(X[idx].reshape((28, 28))), 'L')\n",
    "        images.append(img)"
   ]
  },
  {
   "cell_type": "markdown",
   "metadata": {},
   "source": [
    "### Create point clouds of \"5\"s and flipped \"5\"s"
   ]
  },
  {
   "cell_type": "code",
   "execution_count": null,
   "metadata": {},
   "outputs": [],
   "source": [
    "def get_dataset(angle):\n",
    "    fives = []\n",
    "\n",
    "    for i, elem in enumerate(y):\n",
    "        if elem == '5':\n",
    "            A = np.zeros((40, 40))\n",
    "            A[6:34, 6:34] = X[i].reshape((28, 28))\n",
    "            img = Image.fromarray(np.uint8(A), 'L')\n",
    "            \n",
    "            if angle > 0:\n",
    "                img = img.transpose(Image.FLIP_TOP_BOTTOM)\n",
    "            \n",
    "            fives.append(np.asarray(img).flatten())\n",
    "    \n",
    "    return np.array(fives)"
   ]
  },
  {
   "cell_type": "code",
   "execution_count": null,
   "metadata": {},
   "outputs": [],
   "source": [
    "clouds = []\n",
    "\n",
    "for angle in [0, 1]:\n",
    "    clouds.append(get_dataset(angle))"
   ]
  },
  {
   "cell_type": "code",
   "execution_count": null,
   "metadata": {},
   "outputs": [],
   "source": [
    "for cloud in clouds:\n",
    "    print(cloud.shape)"
   ]
  },
  {
   "cell_type": "markdown",
   "metadata": {},
   "source": [
    "### Compute barcodes "
   ]
  },
  {
   "cell_type": "code",
   "execution_count": null,
   "metadata": {},
   "outputs": [],
   "source": [
    "import mtd"
   ]
  },
  {
   "cell_type": "code",
   "execution_count": null,
   "metadata": {
    "scrolled": true
   },
   "outputs": [],
   "source": [
    "res1 = []\n",
    "trials = 20\n",
    "\n",
    "for i in range(1, len(clouds)):\n",
    "    np.random.seed(7)\n",
    "    barcs = [mtd.calc_cross_barcodes(clouds[i], clouds[0], batch_size1 = 100, batch_size2 = 1000) for _ in range(trials)]\n",
    "    res1.append(barcs)"
   ]
  },
  {
   "cell_type": "code",
   "execution_count": null,
   "metadata": {},
   "outputs": [],
   "source": [
    "def get_scores(res, args_dict, trials = 10):\n",
    "\n",
    "    scores = []\n",
    "\n",
    "    for i in range(len(res)): \n",
    "        asum = []\n",
    "        \n",
    "        for exp_id, elem in enumerate(res[i]):\n",
    "            asum.append(mtd.get_score(elem, **args_dict))\n",
    "\n",
    "        scores.append(sum(asum) / len(res[i]))\n",
    "\n",
    "    return scores"
   ]
  },
  {
   "cell_type": "code",
   "execution_count": null,
   "metadata": {},
   "outputs": [],
   "source": [
    "scores = get_scores(res1, {'h_idx' : 1, 'kind' : 'sum_length'})"
   ]
  },
  {
   "cell_type": "code",
   "execution_count": null,
   "metadata": {},
   "outputs": [],
   "source": [
    "for s in scores:\n",
    "    print(s)"
   ]
  },
  {
   "cell_type": "code",
   "execution_count": null,
   "metadata": {},
   "outputs": [],
   "source": [
    "# Geometry Score\n",
    "\n",
    "import gs\n",
    "\n",
    "def get_rlts(X):\n",
    "    N = 2500\n",
    "    gamma = (1/128)/(N/5000)\n",
    "    rlts = gs.rlts(X, gamma=gamma, n=N, n_threads = 40)\n",
    "    \n",
    "    return rlts"
   ]
  },
  {
   "cell_type": "code",
   "execution_count": null,
   "metadata": {},
   "outputs": [],
   "source": [
    "rlts = [None] * len(clouds)"
   ]
  },
  {
   "cell_type": "code",
   "execution_count": null,
   "metadata": {
    "scrolled": true
   },
   "outputs": [],
   "source": [
    "%time\n",
    "for i in range(len(clouds)):\n",
    "    rlts[i] = get_rlts(clouds[i])"
   ]
  },
  {
   "cell_type": "code",
   "execution_count": null,
   "metadata": {},
   "outputs": [],
   "source": [
    "for i in range(1, len(clouds)):\n",
    "    print(1e3 * gs.geom_score(rlts[0], rlts[i]))"
   ]
  },
  {
   "cell_type": "code",
   "execution_count": null,
   "metadata": {},
   "outputs": [],
   "source": [
    "# additional experiment with IMD\n",
    "from msid import msid_score\n",
    "\n",
    "res1 = []\n",
    "for i in range(len(clouds)):\n",
    "    v = msid_score(clouds[0], clouds[i])\n",
    "    res1.append(v)\n",
    "\n",
    "    print(i, trial, v)"
   ]
  }
 ],
 "metadata": {
  "kernelspec": {
   "display_name": "Python 3",
   "language": "python",
   "name": "python3"
  },
  "language_info": {
   "codemirror_mode": {
    "name": "ipython",
    "version": 3
   },
   "file_extension": ".py",
   "mimetype": "text/x-python",
   "name": "python",
   "nbconvert_exporter": "python",
   "pygments_lexer": "ipython3",
   "version": "3.7.9"
  }
 },
 "nbformat": 4,
 "nbformat_minor": 4
}
