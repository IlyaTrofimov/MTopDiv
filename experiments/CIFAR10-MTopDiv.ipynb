{
 "cells": [
  {
   "cell_type": "code",
   "execution_count": null,
   "metadata": {},
   "outputs": [],
   "source": [
    "import numpy as np\n",
    "import matplotlib.pyplot as plt"
   ]
  },
  {
   "cell_type": "code",
   "execution_count": null,
   "metadata": {},
   "outputs": [],
   "source": [
    "import mtd"
   ]
  },
  {
   "cell_type": "code",
   "execution_count": null,
   "metadata": {},
   "outputs": [],
   "source": [
    "import pickle\n",
    "tdata = pickle.load(open('/gan-clouds/archive_v2.pickle', 'rb'))"
   ]
  },
  {
   "cell_type": "code",
   "execution_count": null,
   "metadata": {
    "scrolled": true
   },
   "outputs": [],
   "source": [
    "res_full_fixseed = []\n",
    "\n",
    "for i in range(len(tdata)):\n",
    "    np.random.seed(7)\n",
    "    print('EXPERIMENT %d' % i)\n",
    "    r = [mtd.calc_cross_barcodes(tdata[i][0], tdata[i][1], batch_size1 = 1000, batch_size2 = 10000) for _ in range(20)]\n",
    "    res_full_fixseed.append(r)"
   ]
  },
  {
   "cell_type": "markdown",
   "metadata": {},
   "source": [
    "### Analyze data"
   ]
  },
  {
   "cell_type": "code",
   "execution_count": null,
   "metadata": {},
   "outputs": [],
   "source": [
    "def get_scores(res, args_dict, trials = 1):\n",
    "\n",
    "    scores = []\n",
    "\n",
    "    for i in range(min(len(tdata), len(res))): \n",
    "        asum = 0.0\n",
    "\n",
    "        if trials > 1:\n",
    "            for exp_id, elem in enumerate(res[i]):\n",
    "                asum += mtd.get_score(elem, **args_dict)\n",
    "                 #break # NB!\n",
    "            scores.append(asum / len(res[i]))\n",
    "        else:\n",
    "            asum = get_score(res[i], **args_dict)\n",
    "            scores.append(asum)\n",
    "\n",
    "    return scores"
   ]
  },
  {
   "cell_type": "code",
   "execution_count": null,
   "metadata": {},
   "outputs": [],
   "source": [
    "#KINDS = ['nbarc', 'largest', 'quantile', 'sum_length', 'sum_sq_length']\n",
    "#\n",
    "#args_dict = []\n",
    "#for h_idx in [0, 1]:\n",
    "#    for kind in KINDS:\n",
    "#        args_dict.append({'h_idx' : h_idx, 'kind' : kind})"
   ]
  },
  {
   "cell_type": "code",
   "execution_count": null,
   "metadata": {},
   "outputs": [],
   "source": [
    "args_dict = [{'h_idx': 1, 'kind': 'sum_length'}] "
   ]
  },
  {
   "cell_type": "code",
   "execution_count": null,
   "metadata": {},
   "outputs": [],
   "source": [
    "from scipy.stats import kendalltau"
   ]
  },
  {
   "cell_type": "code",
   "execution_count": null,
   "metadata": {},
   "outputs": [],
   "source": [
    "groups = [(0, 5), (15, 20), (20, 24), (24, 28), (28, 33)]"
   ]
  },
  {
   "cell_type": "code",
   "execution_count": null,
   "metadata": {
    "scrolled": true
   },
   "outputs": [],
   "source": [
    "for args in args_dict:\n",
    "    scores = get_scores(res_full_fixseed, args, trials = 20)\n",
    "    avg_corr = 0.0\n",
    "    \n",
    "    for group in groups:\n",
    "        idx1, idx2 = group\n",
    "\n",
    "        fid_group = FID[idx1 : idx2]\n",
    "        scores_group = scores[idx1 : idx2]\n",
    "        corr = kendalltau(fid_group, scores_group).correlation\n",
    "        \n",
    "        avg_corr += corr\n",
    "    \n",
    "    print(args, avg_corr / len(groups))"
   ]
  },
  {
   "cell_type": "code",
   "execution_count": null,
   "metadata": {},
   "outputs": [],
   "source": [
    "for s, f in zip(scores, FID):\n",
    "    print(s)"
   ]
  },
  {
   "cell_type": "code",
   "execution_count": null,
   "metadata": {},
   "outputs": [],
   "source": [
    "# additional experiment with IMD\n",
    "from msid import msid_score\n",
    "res_msid = []\n",
    "\n",
    "for i in range(len(tdata)):\n",
    "    np.random.seed(7)\n",
    "    print('EXPERIMENT %d' % i)\n",
    "    v = msid_score(tdata[i][1], tdata[i][0])\n",
    "    res_msid.append(v)"
   ]
  }
 ],
 "metadata": {
  "accelerator": "GPU",
  "colab": {
   "collapsed_sections": [],
   "name": "RelTop barcodes.ipynb",
   "provenance": [
    {
     "file_id": "1078Ia1O2j5LJkc7ojeMmTwkT-VSsI2CC",
     "timestamp": 1608052184340
    },
    {
     "file_id": "11vlwHZoxtiLrLuyRYNoIyXsVG3ZjFlPU",
     "timestamp": 1607094185699
    },
    {
     "file_id": "1MMFjlZKrYs7l3AuZXwPb3iyOlI9TI-tw",
     "timestamp": 1606557251731
    },
    {
     "file_id": "10KybIhBRjTBjWrLdJGF0rC0Q8YjeDgUT",
     "timestamp": 1605868274179
    }
   ],
   "toc_visible": true
  },
  "kernelspec": {
   "display_name": "Python 3",
   "language": "python",
   "name": "python3"
  },
  "language_info": {
   "codemirror_mode": {
    "name": "ipython",
    "version": 3
   },
   "file_extension": ".py",
   "mimetype": "text/x-python",
   "name": "python",
   "nbconvert_exporter": "python",
   "pygments_lexer": "ipython3",
   "version": "3.7.9"
  }
 },
 "nbformat": 4,
 "nbformat_minor": 1
}
