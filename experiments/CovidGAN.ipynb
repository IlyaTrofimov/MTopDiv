{
 "cells": [
  {
   "cell_type": "code",
   "execution_count": null,
   "metadata": {},
   "outputs": [],
   "source": [
    "import os\n",
    "import sys\n",
    "import numpy as np\n",
    "import matplotlib.pyplot as plt\n",
    "import pickle\n",
    "from tqdm.notebook import tqdm\n",
    "from tqdm import trange\n",
    "%matplotlib inline"
   ]
  },
  {
   "cell_type": "code",
   "execution_count": null,
   "metadata": {},
   "outputs": [],
   "source": [
    "epochs = np.arange(0, 500, 10)"
   ]
  },
  {
   "cell_type": "code",
   "execution_count": null,
   "metadata": {},
   "outputs": [],
   "source": [
    "def read_list_of_arrays(filename):\n",
    "    A = pickle.load(open(filename, 'rb'))\n",
    "    \n",
    "    dim = A[0].flatten().shape[0]\n",
    "    B = np.zeros((len(A), dim))\n",
    "\n",
    "    for i in range(len(A)):\n",
    "        B[i, :] = A[i].flatten()\n",
    "        \n",
    "    return B"
   ]
  },
  {
   "cell_type": "code",
   "execution_count": null,
   "metadata": {
    "scrolled": true
   },
   "outputs": [],
   "source": [
    "cloud_base = read_list_of_arrays('/gan-clouds/covid_real.pickle')\n",
    "\n",
    "clouds = []\n",
    "for ep in epochs:\n",
    "    clouds.append(read_list_of_arrays('/gan-clouds/covid_generated/covid_generated%d.pickle' % ep))"
   ]
  },
  {
   "cell_type": "code",
   "execution_count": null,
   "metadata": {},
   "outputs": [],
   "source": [
    "cloud_base_negative = read_list_of_arrays('/gan-clouds/covid_real_negative.pickle')"
   ]
  },
  {
   "cell_type": "code",
   "execution_count": null,
   "metadata": {},
   "outputs": [],
   "source": [
    "cloud_base.shape, cloud_base_negative.shape"
   ]
  },
  {
   "cell_type": "code",
   "execution_count": null,
   "metadata": {
    "scrolled": true
   },
   "outputs": [],
   "source": [
    "for cloud in clouds:\n",
    "    print(cloud.shape)"
   ]
  },
  {
   "cell_type": "markdown",
   "metadata": {},
   "source": [
    "### Compute cross-barcodes "
   ]
  },
  {
   "cell_type": "code",
   "execution_count": null,
   "metadata": {},
   "outputs": [],
   "source": [
    "import mtd"
   ]
  },
  {
   "cell_type": "code",
   "execution_count": null,
   "metadata": {
    "scrolled": true
   },
   "outputs": [],
   "source": [
    "res1 = []\n",
    "trials = 50\n",
    "\n",
    "for i in trange(len(clouds)):\n",
    "    np.random.seed(7)\n",
    "    barcs = [mtd.calc_cross_barcodes(cloud_base, clouds[i], batch_size1 = 100, batch_size2 = 1000,\\\n",
    "                                          cuda = 3, pdist_device = 'gpu') for _ in range(trials)]\n",
    "    res1.append(barcs)"
   ]
  },
  {
   "cell_type": "code",
   "execution_count": null,
   "metadata": {
    "scrolled": true
   },
   "outputs": [],
   "source": [
    "res2 = []\n",
    "trials = 50\n",
    "\n",
    "for i in trange(len(clouds)):\n",
    "    np.random.seed(7)\n",
    "    barcs = [mtd.calc_cross_barcodes(clouds[i], cloud_base, batch_size1 = 100, batch_size2 = 1000,\\\n",
    "                                          cuda = 3, pdist_device = 'gpu') for _ in range(trials)]\n",
    "    res2.append(barcs)"
   ]
  },
  {
   "cell_type": "markdown",
   "metadata": {},
   "source": [
    "### Compare covid positive vs. covid negative"
   ]
  },
  {
   "cell_type": "code",
   "execution_count": null,
   "metadata": {},
   "outputs": [],
   "source": [
    "sanity1 = []\n",
    "trials = 50\n",
    "\n",
    "np.random.seed(7)\n",
    "sanity1 = [mtd.calc_cross_barcodes(cloud_base, cloud_base_negative, batch_size1 = 100, batch_size2 = 1000,\\\n",
    "                                          cuda = 0, pdist_device = 'gpu') for _ in range(trials)]"
   ]
  },
  {
   "cell_type": "code",
   "execution_count": null,
   "metadata": {},
   "outputs": [],
   "source": [
    "sanity2 = []\n",
    "trials = 50\n",
    "\n",
    "np.random.seed(7)\n",
    "sanity2 = [mtd.calc_cross_barcodes(cloud_base_negative, cloud_base, batch_size1 = 100, batch_size2 = 1000,\\\n",
    "                                          cuda = 0, pdist_device = 'gpu') for _ in range(trials)]"
   ]
  },
  {
   "cell_type": "code",
   "execution_count": null,
   "metadata": {},
   "outputs": [],
   "source": [
    "def get_scores(res, args_dict, trials = 10):\n",
    "\n",
    "    scores = []\n",
    "\n",
    "    for i in range(len(res)): \n",
    "        barc_list = []\n",
    "        \n",
    "        for exp_id, elem in enumerate(res[i]):\n",
    "            barc_list.append(mtd.get_score(elem, **args_dict))\n",
    "        \n",
    "        m = sum(barc_list) / len(barc_list)\n",
    "        s = np.std(barc_list) / pow(len(barc_list), 0.5)\n",
    "        \n",
    "        scores.append(m)\n",
    "\n",
    "    return scores"
   ]
  },
  {
   "cell_type": "code",
   "execution_count": null,
   "metadata": {},
   "outputs": [],
   "source": [
    "get_scores([sanity1], {'h_idx' : 1, 'kind' : 'sum_length'})"
   ]
  },
  {
   "cell_type": "code",
   "execution_count": null,
   "metadata": {},
   "outputs": [],
   "source": [
    "get_scores([sanity2], {'h_idx' : 1, 'kind' : 'sum_length'})"
   ]
  },
  {
   "cell_type": "code",
   "execution_count": null,
   "metadata": {},
   "outputs": [],
   "source": [
    "scores = get_scores(res1, {'h_idx' : 1, 'kind' : 'sum_length'})"
   ]
  },
  {
   "cell_type": "code",
   "execution_count": null,
   "metadata": {},
   "outputs": [],
   "source": [
    "for ep, s in zip(epochs, scores):\n",
    "    print(s)"
   ]
  },
  {
   "cell_type": "code",
   "execution_count": null,
   "metadata": {},
   "outputs": [],
   "source": [
    "scores = get_scores(res2, {'h_idx' : 1, 'kind' : 'sum_length'})"
   ]
  },
  {
   "cell_type": "code",
   "execution_count": null,
   "metadata": {},
   "outputs": [],
   "source": [
    "for ep, s in zip(epochs, scores):\n",
    "    print(s)"
   ]
  },
  {
   "cell_type": "code",
   "execution_count": null,
   "metadata": {},
   "outputs": [],
   "source": [
    "pickle.dump(res1, open('res1_covidgan.pickle', 'wb'))\n",
    "pickle.dump(res2, open('res2_covidgan.pickle', 'wb'))"
   ]
  },
  {
   "cell_type": "markdown",
   "metadata": {},
   "source": [
    "### PCA"
   ]
  },
  {
   "cell_type": "code",
   "execution_count": null,
   "metadata": {},
   "outputs": [],
   "source": [
    "from sklearn.decomposition import PCA\n",
    "%pylab inline"
   ]
  },
  {
   "cell_type": "code",
   "execution_count": null,
   "metadata": {},
   "outputs": [],
   "source": [
    "# Create data\n",
    "def plot2(data, groups = (\"base\", \"cloud\")):\n",
    "    colors = (\"red\", \"green\")\n",
    "\n",
    "    # Create plot\n",
    "    fig = plt.figure()\n",
    "    ax = fig.add_subplot(1, 1, 1)\n",
    "\n",
    "    for data, color, group in zip(data, colors, groups):\n",
    "        x, y = data\n",
    "        ax.scatter(x, y, alpha=0.5, c=color, edgecolors='none', s=5, label=group)\n",
    "\n",
    "    #plt.title('Matplot scatter plot')\n",
    "    plt.legend(loc=2)\n",
    "    plt.show()"
   ]
  },
  {
   "cell_type": "markdown",
   "metadata": {},
   "source": [
    "#### PCA from base+last GAN"
   ]
  },
  {
   "cell_type": "code",
   "execution_count": null,
   "metadata": {
    "scrolled": true
   },
   "outputs": [],
   "source": [
    "all_pca = []\n",
    "\n",
    "for i in range(len(epochs)):\n",
    "    pca = PCA(n_components=2)\n",
    "\n",
    "    cb = np.concatenate((cloud_base, clouds[-1]))\n",
    "    pca.fit(cb)\n",
    "\n",
    "    cb = cloud_base\n",
    "    cloud_base_pca = pca.transform(cb)\n",
    "    data = [(cloud_base_pca[:,0], cloud_base_pca[:,1])]\n",
    "\n",
    "    cg = clouds[i]\n",
    "\n",
    "    cloud_pca = pca.transform(cg)\n",
    "    data.append((cloud_pca[:,0], cloud_pca[:,1]))\n",
    "    \n",
    "    all_pca.append(data)\n",
    "\n",
    "    plot2(data, groups = (\"real\", \"generated, epoch %d\" % epochs[i]))"
   ]
  },
  {
   "cell_type": "code",
   "execution_count": null,
   "metadata": {},
   "outputs": [],
   "source": [
    "#pickle.dump(all_pca, open('covidgan_all_pca.pickle', 'wb'))"
   ]
  }
 ],
 "metadata": {
  "kernelspec": {
   "display_name": "Python 3",
   "language": "python",
   "name": "python3"
  },
  "language_info": {
   "codemirror_mode": {
    "name": "ipython",
    "version": 3
   },
   "file_extension": ".py",
   "mimetype": "text/x-python",
   "name": "python",
   "nbconvert_exporter": "python",
   "pygments_lexer": "ipython3",
   "version": "3.7.9"
  }
 },
 "nbformat": 4,
 "nbformat_minor": 4
}
