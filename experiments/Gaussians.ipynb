{
 "cells": [
  {
   "cell_type": "code",
   "execution_count": null,
   "metadata": {},
   "outputs": [],
   "source": [
    "import os\n",
    "import sys\n",
    "import numpy as np\n",
    "import matplotlib.pyplot as plt\n",
    "import pickle\n",
    "from tqdm.notebook import tqdm\n",
    "%matplotlib inline"
   ]
  },
  {
   "cell_type": "code",
   "execution_count": null,
   "metadata": {},
   "outputs": [],
   "source": [
    "raw_data = torch.load('/gan-clouds/5gaussians.pt')"
   ]
  },
  {
   "cell_type": "code",
   "execution_count": null,
   "metadata": {},
   "outputs": [],
   "source": [
    "raw_data.keys()"
   ]
  },
  {
   "cell_type": "code",
   "execution_count": null,
   "metadata": {},
   "outputs": [],
   "source": [
    "clouds = [raw_data['gaussians'], raw_data['WGAN_GP'], raw_data['GAN']]"
   ]
  },
  {
   "cell_type": "code",
   "execution_count": null,
   "metadata": {},
   "outputs": [],
   "source": [
    "for cloud in clouds:\n",
    "    print(cloud.shape)"
   ]
  },
  {
   "cell_type": "code",
   "execution_count": null,
   "metadata": {},
   "outputs": [],
   "source": [
    "import mtd"
   ]
  },
  {
   "cell_type": "code",
   "execution_count": null,
   "metadata": {
    "scrolled": true
   },
   "outputs": [],
   "source": [
    "%time\n",
    "res1 = []\n",
    "trials = 20\n",
    "cuda = 0\n",
    "\n",
    "for i, cloud in enumerate(clouds):\n",
    "    np.random.seed(7)\n",
    "    barcs = [mtd.calc_cross_barcodes(clouds[i], clouds[0], batch_size1 = 100, batch_size2 = 1000,\\\n",
    "                                    cuda = cuda) for _ in range(trials)]\n",
    "    res1.append(barcs)"
   ]
  },
  {
   "cell_type": "code",
   "execution_count": null,
   "metadata": {
    "scrolled": true
   },
   "outputs": [],
   "source": [
    "%time\n",
    "res2 = []\n",
    "trials = 20\n",
    "cuda = 0\n",
    "\n",
    "for i, cloud in enumerate(clouds):\n",
    "    np.random.seed(7)\n",
    "    barcs = [mtd.calc_barcodes(clouds[0], clouds[i], batch_size1 = 100, batch_size2 = 1000,\\\n",
    "                                    cuda = cuda) for _ in range(trials)]\n",
    "    res2.append(barcs)"
   ]
  },
  {
   "cell_type": "code",
   "execution_count": null,
   "metadata": {},
   "outputs": [],
   "source": [
    "#with open('gaussians.pickle', 'wb') as outfile:\n",
    "#    pickle.dump((res1, res2), outfile)"
   ]
  },
  {
   "cell_type": "code",
   "execution_count": null,
   "metadata": {},
   "outputs": [],
   "source": [
    "def get_scores(res, args_dict, trials = 10):\n",
    "\n",
    "    scores = []\n",
    "\n",
    "    for i in range(len(res)): \n",
    "        asum = []\n",
    "        \n",
    "        for exp_id, elem in enumerate(res[i]):\n",
    "            asum.append(mtd.get_score(elem, **args_dict))\n",
    "        scores.append(sum(asum) / len(res[i]))\n",
    "\n",
    "    return scores"
   ]
  },
  {
   "cell_type": "code",
   "execution_count": null,
   "metadata": {},
   "outputs": [],
   "source": [
    "scores = get_scores(res1, {'h_idx' : 1, 'kind' : 'sum_length'})"
   ]
  },
  {
   "cell_type": "code",
   "execution_count": null,
   "metadata": {},
   "outputs": [],
   "source": [
    "descriptions = ['Gaussians', 'WGAN_GP', 'GAN']"
   ]
  },
  {
   "cell_type": "code",
   "execution_count": null,
   "metadata": {},
   "outputs": [],
   "source": [
    "for s, d in zip(scores, descriptions):\n",
    "    print(d, s)"
   ]
  },
  {
   "cell_type": "code",
   "execution_count": null,
   "metadata": {},
   "outputs": [],
   "source": [
    "### Geometry Score\n",
    "import gs\n",
    "\n",
    "def get_rlts(X):\n",
    "    N = 2500\n",
    "    gamma = (1/128)/(N/5000)\n",
    "    rlts = gs.rlts(X, gamma=gamma, n=N, n_threads = 10)\n",
    "    \n",
    "    return rlts"
   ]
  },
  {
   "cell_type": "code",
   "execution_count": null,
   "metadata": {},
   "outputs": [],
   "source": [
    "rlts = [None] * len(clouds)"
   ]
  },
  {
   "cell_type": "code",
   "execution_count": null,
   "metadata": {
    "scrolled": true
   },
   "outputs": [],
   "source": [
    "%time\n",
    "for i in range(len(clouds)):\n",
    "    rlts[i] = get_rlts(clouds[i])"
   ]
  },
  {
   "cell_type": "code",
   "execution_count": null,
   "metadata": {},
   "outputs": [],
   "source": [
    "for i in range(len(clouds)):\n",
    "    print(1e3 * gs.geom_score(rlts[0], rlts[i]))"
   ]
  },
  {
   "cell_type": "code",
   "execution_count": 1,
   "metadata": {},
   "outputs": [],
   "source": [
    "# additional experiments with IMD\n",
    "\n",
    "from msid import msid_score\n",
    "np.random.seed(7)\n",
    "res = []\n",
    "\n",
    "for i, cloud in tqdm(list(enumerate(clouds))):\n",
    "    v = msid_score(clouds[0], clouds[i])\n",
    "    res.append(v)"
   ]
  },
  {
   "cell_type": "code",
   "execution_count": null,
   "metadata": {},
   "outputs": [],
   "source": [
    "plt.scatter(x = clouds[0][:,0], y = clouds[0][:,1], s = 1)\n",
    "plt.scatter(x = clouds[1][:,0], y = clouds[1][:,1], s = 1)\n",
    "plt.scatter(x = clouds[2][:,0], y = clouds[2][:,1], s = 1)\n",
    "plt.legend(['data', 'WGAN-GP', 'GAN'], loc=1)"
   ]
  }
 ],
 "metadata": {
  "kernelspec": {
   "display_name": "Python 3",
   "language": "python",
   "name": "python3"
  },
  "language_info": {
   "codemirror_mode": {
    "name": "ipython",
    "version": 3
   },
   "file_extension": ".py",
   "mimetype": "text/x-python",
   "name": "python",
   "nbconvert_exporter": "python",
   "pygments_lexer": "ipython3",
   "version": "3.7.9"
  }
 },
 "nbformat": 4,
 "nbformat_minor": 4
}
