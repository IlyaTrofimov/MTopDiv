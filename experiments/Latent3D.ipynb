{
 "cells": [
  {
   "cell_type": "code",
   "execution_count": null,
   "metadata": {},
   "outputs": [],
   "source": [
    "import os\n",
    "import sys\n",
    "import pickle\n",
    "import numpy as np\n",
    "import matplotlib.pyplot as plt\n",
    "from tqdm.notebook import tqdm\n",
    "from tqdm import trange\n",
    "%matplotlib inline"
   ]
  },
  {
   "cell_type": "code",
   "execution_count": null,
   "metadata": {},
   "outputs": [],
   "source": [
    "from importlib import reload  \n",
    "reload(latent3d_evaluation_metrics)\n",
    "import latent3d_evaluation_metrics"
   ]
  },
  {
   "cell_type": "code",
   "execution_count": null,
   "metadata": {},
   "outputs": [],
   "source": [
    "def pc_of_pc_to_grid(A):\n",
    "    \n",
    "    grid_resolution = 28 \n",
    "    nn, grid_coordinates = latent3d_evaluation_metrics.get_nn_obj(grid_resolution = grid_resolution)\n",
    "    \n",
    "    G = np.zeros((A.shape[0], grid_resolution**3))\n",
    "    \n",
    "    for i in trange(A.shape[0]):\n",
    "        G[i] = latent3d_evaluation_metrics.get_grid_counters([A[i]], grid_resolution = grid_resolution,\\\n",
    "                                                            nn = nn, grid_coordinates = grid_coordinates)\n",
    "    return G"
   ]
  },
  {
   "cell_type": "code",
   "execution_count": null,
   "metadata": {},
   "outputs": [],
   "source": [
    "A = np.load('/latent_3d/chairs.npz')['arr_0']\n",
    "cloud_base = np.reshape(A, (6778, 2048 * 3))\n",
    "cloud_base_orig = A\n",
    "cloud_base_grid = pc_of_pc_to_grid(A)"
   ]
  },
  {
   "cell_type": "code",
   "execution_count": null,
   "metadata": {},
   "outputs": [],
   "source": [
    "epochs = list(np.concatenate(([1, 5, 10, 50], np.arange(100, 1005, 100))))"
   ]
  },
  {
   "cell_type": "code",
   "execution_count": null,
   "metadata": {},
   "outputs": [],
   "source": [
    "epochs"
   ]
  },
  {
   "cell_type": "code",
   "execution_count": null,
   "metadata": {
    "scrolled": true
   },
   "outputs": [],
   "source": [
    "clouds = []\n",
    "clouds_orig = []\n",
    "clouds_grid = []\n",
    "\n",
    "for ep in epochs:\n",
    "    A = np.load('/latent_3d/ep1000/epoch_%d.npz' % ep)['arr_0']\n",
    "    clouds.append(np.reshape(A, (6778, 2048 * 3)))\n",
    "    clouds_orig.append(A)\n",
    "    clouds_grid.append(pc_of_pc_to_grid(A))"
   ]
  },
  {
   "cell_type": "code",
   "execution_count": null,
   "metadata": {},
   "outputs": [],
   "source": [
    "cloud_base.shape"
   ]
  },
  {
   "cell_type": "code",
   "execution_count": null,
   "metadata": {},
   "outputs": [],
   "source": [
    "for cloud in clouds:\n",
    "    print(cloud.shape)"
   ]
  },
  {
   "cell_type": "code",
   "execution_count": null,
   "metadata": {},
   "outputs": [],
   "source": [
    "cloud_base_grid.shape"
   ]
  },
  {
   "cell_type": "code",
   "execution_count": null,
   "metadata": {},
   "outputs": [],
   "source": [
    "for cloud in clouds_grid:\n",
    "    print(cloud.shape)"
   ]
  },
  {
   "cell_type": "markdown",
   "metadata": {},
   "source": [
    "### Compute cross-barcodes "
   ]
  },
  {
   "cell_type": "code",
   "execution_count": null,
   "metadata": {},
   "outputs": [],
   "source": [
    "import mtd"
   ]
  },
  {
   "cell_type": "code",
   "execution_count": null,
   "metadata": {
    "scrolled": true
   },
   "outputs": [],
   "source": [
    "res1 = []\n",
    "trials = 10\n",
    "\n",
    "for i in trange(len(clouds)):\n",
    "    np.random.seed(7)\n",
    "    barcs = [mtd.calc_cross_barcodes(cloud_base_grid, clouds_grid[i], batch_size1 = 100, batch_size2 = 1000,\\\n",
    "                                          cuda = 1, pdist_device = 'gpu') for _ in range(trials)]\n",
    "    res1.append(barcs)"
   ]
  },
  {
   "cell_type": "code",
   "execution_count": null,
   "metadata": {
    "scrolled": true
   },
   "outputs": [],
   "source": [
    "res2 = []\n",
    "trials = 10\n",
    "\n",
    "for i in trange(len(clouds)):\n",
    "    np.random.seed(7)\n",
    "    barcs = [mtd.calc_cross_barcodes(clouds_grid[i], cloud_base_grid, batch_size1 = 100, batch_size2 = 1000,\\\n",
    "                                          cuda = 1, pdist_device = 'gpu') for _ in range(trials)]\n",
    "    res2.append(barcs)"
   ]
  },
  {
   "cell_type": "markdown",
   "metadata": {},
   "source": [
    "### Absolute barcodes"
   ]
  },
  {
   "cell_type": "code",
   "execution_count": null,
   "metadata": {},
   "outputs": [],
   "source": [
    "mtd.calc_cross_barcodes(clouds_grid[-1], np.zeros((0,0)), batch_size1 = 100, batch_size2 = 0,\\\n",
    "                                          cuda = 3, pdist_device = 'cpu')"
   ]
  },
  {
   "cell_type": "code",
   "execution_count": null,
   "metadata": {},
   "outputs": [],
   "source": [
    "mtd.calc_cross_barcodes(cloud_base_grid, np.zeros((0,0)), batch_size1 = 100, batch_size2 = 0,\\\n",
    "                                          cuda = 3, pdist_device = 'cpu')"
   ]
  },
  {
   "cell_type": "code",
   "execution_count": null,
   "metadata": {},
   "outputs": [],
   "source": [
    "def get_scores(res, args_dict, trials = 10):\n",
    "\n",
    "    scores = []\n",
    "\n",
    "    for i in range(len(res)): \n",
    "        asum = []\n",
    "        \n",
    "        for exp_id, elem in enumerate(res[i]):\n",
    "            asum.append(mtd.get_score(elem, **args_dict))\n",
    "\n",
    "        scores.append(sum(asum) / len(res[i]))\n",
    "\n",
    "    return scores"
   ]
  },
  {
   "cell_type": "code",
   "execution_count": null,
   "metadata": {},
   "outputs": [],
   "source": [
    "scores = get_scores(res1, {'h_idx' : 1, 'kind' : 'sum_length'})"
   ]
  },
  {
   "cell_type": "code",
   "execution_count": null,
   "metadata": {},
   "outputs": [],
   "source": [
    "for ep, s in zip(epochs, scores):\n",
    "    print(ep, s)"
   ]
  },
  {
   "cell_type": "code",
   "execution_count": null,
   "metadata": {},
   "outputs": [],
   "source": [
    "scores = get_scores(res2, {'h_idx' : 1, 'kind' : 'sum_length'})"
   ]
  },
  {
   "cell_type": "code",
   "execution_count": null,
   "metadata": {},
   "outputs": [],
   "source": [
    "for ep, s in zip(epochs, scores):\n",
    "    print(ep, s)"
   ]
  },
  {
   "cell_type": "code",
   "execution_count": null,
   "metadata": {},
   "outputs": [],
   "source": [
    "#pickle.dump(res1, open(\"res1_1000_100_ep1000_grid.pickle\", 'wb'))\n",
    "#pickle.dump(res2, open(\"res2_1000_100_ep1000_grid.pickle\", 'wb'))"
   ]
  },
  {
   "cell_type": "markdown",
   "metadata": {},
   "source": [
    "### PCA"
   ]
  },
  {
   "cell_type": "code",
   "execution_count": null,
   "metadata": {},
   "outputs": [],
   "source": [
    "from sklearn.decomposition import PCA\n",
    "%pylab inline"
   ]
  },
  {
   "cell_type": "code",
   "execution_count": null,
   "metadata": {},
   "outputs": [],
   "source": [
    "# Create data\n",
    "def plot2(data, groups = (\"base\", \"cloud\")):\n",
    "    colors = (\"red\", \"green\")\n",
    "\n",
    "    # Create plot\n",
    "    fig = plt.figure()\n",
    "    ax = fig.add_subplot(1, 1, 1)\n",
    "\n",
    "    for data, color, group in zip(data, colors, groups):\n",
    "        x, y = data\n",
    "        ax.scatter(x, y, alpha=0.5, c=color, edgecolors='none', s=5, label=group)\n",
    "\n",
    "    #plt.title('Matplot scatter plot')\n",
    "    plt.legend(loc=2)\n",
    "    plt.show()"
   ]
  },
  {
   "cell_type": "markdown",
   "metadata": {},
   "source": [
    "#### PCA from base+last GAN"
   ]
  },
  {
   "cell_type": "code",
   "execution_count": null,
   "metadata": {
    "scrolled": true
   },
   "outputs": [],
   "source": [
    "all_pca = []\n",
    "\n",
    "for i in range(len(epochs)):\n",
    "    pca = PCA(n_components=2)\n",
    "\n",
    "    cb = np.concatenate((cloud_base_grid, clouds_grid[-1]))\n",
    "    pca.fit(cb)\n",
    "\n",
    "    cb = cloud_base_grid\n",
    "    cloud_base_pca = pca.transform(cb)\n",
    "    data = [(cloud_base_pca[:,0], cloud_base_pca[:,1])]\n",
    "\n",
    "    cg = clouds_grid[i]\n",
    "\n",
    "    cloud_pca = pca.transform(cg)\n",
    "    data.append((cloud_pca[:,0], cloud_pca[:,1]))\n",
    "    \n",
    "    all_pca.append(data)\n",
    "\n",
    "    plot2(data, groups = (\"real\", \"generated, epoch %d\" % epochs[i]))"
   ]
  },
  {
   "cell_type": "code",
   "execution_count": null,
   "metadata": {},
   "outputs": [],
   "source": [
    "#pickle.dump(all_pca, open('3d_gan_pca.pickle', 'wb'))"
   ]
  },
  {
   "cell_type": "markdown",
   "metadata": {},
   "source": [
    "### Classifier 2-sample test"
   ]
  },
  {
   "cell_type": "code",
   "execution_count": null,
   "metadata": {},
   "outputs": [],
   "source": [
    "import numpy as np\n",
    "from sklearn.metrics import accuracy_score\n",
    "from sklearn.model_selection import train_test_split\n",
    "from sklearn.neural_network import MLPClassifier"
   ]
  },
  {
   "cell_type": "code",
   "execution_count": null,
   "metadata": {},
   "outputs": [],
   "source": [
    "def c2st(X, y):\n",
    "    X_train, X_test, y_train, y_test = train_test_split(X, y, test_size=0.5, random_state=42)\n",
    "\n",
    "    mlp = MLPClassifier(hidden_layer_sizes=(100, 100, 100), learning_rate_init = 0.01)\n",
    "    mlp.fit(X_train, y_train)\n",
    "\n",
    "    y_pred = mlp.predict(X_test)\n",
    "    return accuracy_score(y_pred,y_test)"
   ]
  },
  {
   "cell_type": "code",
   "execution_count": null,
   "metadata": {},
   "outputs": [],
   "source": [
    "for i in range(len(epochs)):\n",
    "    X = np.zeros((6778*2, 21952))\n",
    "    y = np.zeros((6778*2))\n",
    "\n",
    "    X[0:6778,:] = cloud_base_grid\n",
    "    X[6778:13556,:] = clouds_grid[i]\n",
    "\n",
    "    y[0:6778] = 0\n",
    "    y[6778:13556] = 1\n",
    "    \n",
    "    print(epochs[i], c2st(X, y))"
   ]
  }
 ],
 "metadata": {
  "kernelspec": {
   "display_name": "Python 3",
   "language": "python",
   "name": "python3"
  },
  "language_info": {
   "codemirror_mode": {
    "name": "ipython",
    "version": 3
   },
   "file_extension": ".py",
   "mimetype": "text/x-python",
   "name": "python",
   "nbconvert_exporter": "python",
   "pygments_lexer": "ipython3",
   "version": "3.7.9"
  }
 },
 "nbformat": 4,
 "nbformat_minor": 4
}
