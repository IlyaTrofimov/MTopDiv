{
 "cells": [
  {
   "cell_type": "code",
   "execution_count": null,
   "metadata": {},
   "outputs": [],
   "source": [
    "import os\n",
    "import sys\n",
    "from PIL import Image\n",
    "import numpy as np\n",
    "import matplotlib.pyplot as plt\n",
    "from torchvision import transforms\n",
    "import pickle\n",
    "import pathlib\n",
    "from tqdm.notebook import tqdm\n",
    "%matplotlib inline"
   ]
  },
  {
   "cell_type": "code",
   "execution_count": null,
   "metadata": {},
   "outputs": [],
   "source": [
    "img = Image.open('/gan-clouds/ffhq/ffhq/image_02220_psi1.png').convert('RGB')"
   ]
  },
  {
   "cell_type": "code",
   "execution_count": null,
   "metadata": {},
   "outputs": [],
   "source": [
    "img"
   ]
  },
  {
   "cell_type": "code",
   "execution_count": null,
   "metadata": {},
   "outputs": [],
   "source": [
    "img = Image.open('/gan-clouds/ffhq/stylegan2/image_02262_psi07.png').convert('RGB')"
   ]
  },
  {
   "cell_type": "code",
   "execution_count": null,
   "metadata": {},
   "outputs": [],
   "source": [
    "img"
   ]
  },
  {
   "cell_type": "code",
   "execution_count": null,
   "metadata": {},
   "outputs": [],
   "source": [
    "def read_cloud(path, substr = None):\n",
    "    path = pathlib.Path(path)\n",
    "    files = sorted([file for ext in ['png']\n",
    "                           for file in path.glob('*.{}'.format(ext))])\n",
    "\n",
    "    X = []\n",
    "\n",
    "    for afile in tqdm(files):\n",
    "        if not substr or afile.name.find(substr) > 0:\n",
    "            \n",
    "            img = Image.open(afile).convert('RGB')\n",
    "            t = transforms.ToTensor()(img).flatten()\n",
    "            X.append(t.numpy())\n",
    "                \n",
    "    return np.array(X)"
   ]
  },
  {
   "cell_type": "code",
   "execution_count": null,
   "metadata": {},
   "outputs": [],
   "source": [
    "X = read_cloud('/gan-clouds/ffhq/ffhq')"
   ]
  },
  {
   "cell_type": "code",
   "execution_count": null,
   "metadata": {
    "scrolled": true
   },
   "outputs": [],
   "source": [
    "S1_07 = read_cloud('/gan-clouds/ffhq/stylegan1', 'psi07')"
   ]
  },
  {
   "cell_type": "code",
   "execution_count": null,
   "metadata": {},
   "outputs": [],
   "source": [
    "S1_1 = read_cloud('/gan-clouds/ffhq/stylegan1', 'psi1')"
   ]
  },
  {
   "cell_type": "code",
   "execution_count": null,
   "metadata": {},
   "outputs": [],
   "source": [
    "S2_07 = read_cloud('/gan-clouds/ffhq/stylegan2', 'psi07')"
   ]
  },
  {
   "cell_type": "code",
   "execution_count": null,
   "metadata": {},
   "outputs": [],
   "source": [
    "S2_1 = read_cloud('/gan-clouds/ffhq/stylegan2', 'psi1')"
   ]
  },
  {
   "cell_type": "code",
   "execution_count": null,
   "metadata": {},
   "outputs": [],
   "source": [
    "clouds = [X, S1_07, S1_1, S2_07, S2_1]"
   ]
  },
  {
   "cell_type": "code",
   "execution_count": null,
   "metadata": {},
   "outputs": [],
   "source": [
    "for cloud in clouds:\n",
    "    print(cloud.shape)"
   ]
  },
  {
   "cell_type": "code",
   "execution_count": null,
   "metadata": {},
   "outputs": [],
   "source": [
    "import mtd"
   ]
  },
  {
   "cell_type": "code",
   "execution_count": null,
   "metadata": {
    "scrolled": true
   },
   "outputs": [],
   "source": [
    "%time\n",
    "res_ffhq_large1 = []\n",
    "trials = 20\n",
    "cuda = 0\n",
    "\n",
    "for i, cloud in enumerate(clouds):\n",
    "    if i == 0:\n",
    "        continue\n",
    "        \n",
    "    np.random.seed(7)\n",
    "    barcs = [mtd.calc_cross_barcodes(clouds[i], clouds[0], batch_size1 = 1000, batch_size2 = 10000,\\\n",
    "                                    cuda = cuda) for _ in range(trials)]\n",
    "    res_ffhq_large1.append(barcs)"
   ]
  },
  {
   "cell_type": "code",
   "execution_count": null,
   "metadata": {},
   "outputs": [],
   "source": [
    "%%time\n",
    "res_ffhq_large2 = []\n",
    "trials = 20\n",
    "cuda = 0\n",
    "\n",
    "for i, cloud in enumerate(clouds):\n",
    "    if i == 0:\n",
    "        continue\n",
    "    \n",
    "    np.random.seed(7)\n",
    "    barcs = [mtd.calc_cross_barcodes(clouds[0], clouds[i], batch_size1 = 1000, batch_size2 = 10000,\\\n",
    "                                   cuda = cuda) for _ in range(trials)]\n",
    "    res_ffhq_large2.append(barcs)"
   ]
  },
  {
   "cell_type": "code",
   "execution_count": null,
   "metadata": {},
   "outputs": [],
   "source": [
    "def get_scores(res, args_dict, trials = 10):\n",
    "\n",
    "    scores = []\n",
    "\n",
    "    for i in range(len(res)): \n",
    "        asum = []\n",
    "        \n",
    "        for exp_id, elem in enumerate(res[i]):\n",
    "            asum.append(mtd.get_score(elem, **args_dict))\n",
    "            \n",
    "        print(asum)\n",
    "\n",
    "        scores.append(sum(asum) / len(res[i]))\n",
    "\n",
    "    return scores"
   ]
  },
  {
   "cell_type": "code",
   "execution_count": null,
   "metadata": {},
   "outputs": [],
   "source": [
    "scores = get_scores(res_ffhq_large2, {'h_idx' : 1, 'kind' : 'sum_length'})"
   ]
  },
  {
   "cell_type": "code",
   "execution_count": null,
   "metadata": {},
   "outputs": [],
   "source": [
    "descriptions = ['StyleGan1_psi07', 'StyleGan1_psi1', 'StyleGan2_psi07', 'StyleGan2_psi1']"
   ]
  },
  {
   "cell_type": "code",
   "execution_count": null,
   "metadata": {},
   "outputs": [],
   "source": [
    "for s, d in zip(scores, descriptions):\n",
    "    print(d, s)"
   ]
  },
  {
   "cell_type": "code",
   "execution_count": null,
   "metadata": {},
   "outputs": [],
   "source": [
    "# additional experiment with IMD\n",
    "from msid import msid_score\n",
    "res_imd = [0] * len(clouds)\n",
    "\n",
    "for i, cloud in tqdm(list(enumerate(clouds))):\n",
    "    if i == 0:\n",
    "        continue\n",
    "    \n",
    "    indices = list(range(len(clouds[0])))\n",
    "    np.random.seed(7)\n",
    "    np.random.shuffle(indices)\n",
    "    rnd_idx = indices[0:2000]\n",
    "\n",
    "    v = msid_score(clouds[0][rnd_idx], clouds[i][rnd_idx])\n",
    "    res_imd[i] = v"
   ]
  }
 ],
 "metadata": {
  "kernelspec": {
   "display_name": "Python 3",
   "language": "python",
   "name": "python3"
  },
  "language_info": {
   "codemirror_mode": {
    "name": "ipython",
    "version": 3
   },
   "file_extension": ".py",
   "mimetype": "text/x-python",
   "name": "python",
   "nbconvert_exporter": "python",
   "pygments_lexer": "ipython3",
   "version": "3.7.9"
  }
 },
 "nbformat": 4,
 "nbformat_minor": 4
}
