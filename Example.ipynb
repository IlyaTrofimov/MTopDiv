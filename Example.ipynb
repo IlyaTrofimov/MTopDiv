{
 "cells": [
  {
   "cell_type": "code",
   "execution_count": null,
   "metadata": {},
   "outputs": [],
   "source": [
    "#\n",
    "# Uncomment and run for Google Colab.\n",
    "# 1. Set the GPU runtime before installation\n",
    "# 2. Restart the runtime after installation\n",
    "#\n",
    "#!pip install git+https://github.com/simonzhang00/ripser-plusplus.git\n",
    "#!pip install git+https://github.com/IlyaTrofimov/MTopDiv.git"
   ]
  },
  {
   "cell_type": "code",
   "execution_count": 4,
   "metadata": {
    "scrolled": true
   },
   "outputs": [],
   "source": [
    "import numpy as np\n",
    "import mtd\n",
    "\n",
    "np.random.seed(7)\n",
    "P = np.random.rand(1000, 2)\n",
    "Q = np.random.rand(1000, 2)\n",
    "\n",
    "barc = mtd.calc_cross_barcodes(P, Q, batch_size1 = 100, batch_size2 = 1000, is_plot = False)"
   ]
  },
  {
   "cell_type": "code",
   "execution_count": 5,
   "metadata": {},
   "outputs": [
    {
     "data": {
      "text/plain": [
       "0.0342284"
      ]
     },
     "execution_count": 5,
     "metadata": {},
     "output_type": "execute_result"
    }
   ],
   "source": [
    "mtd.get_score(barc, 1, 'sum_length')"
   ]
  },
  {
   "cell_type": "code",
   "execution_count": 6,
   "metadata": {},
   "outputs": [
    {
     "data": {
      "text/plain": [
       "0.035247244"
      ]
     },
     "execution_count": 6,
     "metadata": {},
     "output_type": "execute_result"
    }
   ],
   "source": [
    "mtd.mtopdiv(P, Q, batch_size1 = 100, batch_size2 = 1000)"
   ]
  },
  {
   "cell_type": "code",
   "execution_count": null,
   "metadata": {},
   "outputs": [],
   "source": [
    "#\n",
    "# For GAN evaluation we recommend to use 0.5 * (mtopdiv(P, Q) + mtopdiv(Q, P)), \n",
    "# where P, Q are the point clouds of real and generated objects.\n",
    "#"
   ]
  }
 ],
 "metadata": {
  "kernelspec": {
   "display_name": "Python 3",
   "language": "python",
   "name": "python3"
  },
  "language_info": {
   "codemirror_mode": {
    "name": "ipython",
    "version": 3
   },
   "file_extension": ".py",
   "mimetype": "text/x-python",
   "name": "python",
   "nbconvert_exporter": "python",
   "pygments_lexer": "ipython3",
   "version": "3.7.9"
  }
 },
 "nbformat": 4,
 "nbformat_minor": 4
}
